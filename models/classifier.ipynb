{
 "cells": [
  {
   "cell_type": "code",
   "execution_count": null,
   "id": "93a7e40c",
   "metadata": {},
   "outputs": [],
   "source": [
    "import torch\n",
    "from torch import nn\n",
    "from torch.nn import init\n",
    "from torch.nn import functional as F\n",
    "from torch.nn import Parameter\n",
    "\n",
    "\n",
    "__all__ = ['Classifier', 'NormalizedClassifier']\n",
    "\n",
    "\n",
    "class Classifier(nn.Module):\n",
    "    def __init__(self, feature_dim, num_classes):\n",
    "        super().__init__()\n",
    "        self.classifier = nn.Linear(feature_dim, num_classes)\n",
    "        init.normal_(self.classifier.weight.data, std=0.001)\n",
    "        init.constant_(self.classifier.bias.data, 0.0)\n",
    "\n",
    "    def forward(self, x):\n",
    "        y = self.classifier(x)\n",
    "\n",
    "        return y\n",
    "        \n",
    "\n",
    "class NormalizedClassifier(nn.Module):\n",
    "    def __init__(self, feature_dim, num_classes):\n",
    "        super().__init__()\n",
    "        self.weight = Parameter(torch.Tensor(num_classes, feature_dim))\n",
    "        self.weight.data.uniform_(-1, 1).renorm_(2,0,1e-5).mul_(1e5) \n",
    "\n",
    "    def forward(self, x):\n",
    "        w = self.weight  \n",
    "\n",
    "        x = F.normalize(x, p=2, dim=1)\n",
    "        w = F.normalize(w, p=2, dim=1)\n",
    "\n",
    "        return F.linear(x, w)"
   ]
  }
 ],
 "metadata": {
  "kernelspec": {
   "display_name": "Python 3 (ipykernel)",
   "language": "python",
   "name": "python3"
  },
  "language_info": {
   "codemirror_mode": {
    "name": "ipython",
    "version": 3
   },
   "file_extension": ".py",
   "mimetype": "text/x-python",
   "name": "python",
   "nbconvert_exporter": "python",
   "pygments_lexer": "ipython3",
   "version": "3.11.9"
  }
 },
 "nbformat": 4,
 "nbformat_minor": 5
}
