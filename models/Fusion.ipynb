{
 "cells": [
  {
   "cell_type": "code",
   "execution_count": null,
   "id": "35aa4733",
   "metadata": {},
   "outputs": [],
   "source": [
    "import torch\n",
    "import torch.nn as nn\n",
    "import torch.nn.functional as F\n",
    "from torch.nn import init\n",
    "\n",
    "EPSILON = 1e-12 \n",
    "\n",
    "class BasicConv2d(nn.Module):\n",
    "\n",
    "    def __init__(self, in_channels, out_channels, **kwargs):\n",
    "        super(BasicConv2d, self).__init__()\n",
    "        self.conv = nn.Conv2d(in_channels, out_channels, bias=False, **kwargs)\n",
    "        self.bn = nn.BatchNorm2d(out_channels, eps=0.001)\n",
    "\n",
    "    def forward(self, x):\n",
    "        x = self.conv(x)\n",
    "        x = self.bn(x)\n",
    "        return F.relu(x, inplace=True)\n",
    "\n",
    "class Fusion(nn.Module):\n",
    "    def __init__(self, feature_dim):\n",
    "        super(Fusion, self).__init__()\n",
    "\n",
    "        self.linear = nn.Linear(8*2048, feature_dim, bias=False)\n",
    "        self.bn = nn.BatchNorm1d(feature_dim)\n",
    "        self.pool = nn.AdaptiveMaxPool2d(1)\n",
    "        self.M = 8\n",
    "        self.attentions = BasicConv2d(2048, self.M, kernel_size=1)\n",
    "        self.linear.weight.data.normal_(0, 0.001)\n",
    "        init.normal_(self.bn.weight.data, 1.0, 0.02)\n",
    "        init.constant_(self.bn.bias.data, 0.0)\n",
    "\n",
    "    def forward(self, feat, feat2):          \n",
    "        feat2_att = self.attentions(feat2)\n",
    "\n",
    "        B, C, H, W = feat.size()\n",
    "        _, M, AH, AW = feat2_att.size()\n",
    "\n",
    "        x = (torch.einsum('imjk,injk->imn', (feat2_att, feat)) / float(H * W)).view(B, -1) \n",
    "        x = torch.clamp(x, min = 1e-6) \n",
    "        x = torch.sign(x) * torch.sqrt(torch.abs(x) + EPSILON)\n",
    "        x = F.normalize(x, dim=-1)\n",
    "        x = self.linear(x) \n",
    "        x = self.bn(x)\n",
    "\n",
    "        return x"
   ]
  }
 ],
 "metadata": {
  "kernelspec": {
   "display_name": "Python 3 (ipykernel)",
   "language": "python",
   "name": "python3"
  },
  "language_info": {
   "codemirror_mode": {
    "name": "ipython",
    "version": 3
   },
   "file_extension": ".py",
   "mimetype": "text/x-python",
   "name": "python",
   "nbconvert_exporter": "python",
   "pygments_lexer": "ipython3",
   "version": "3.11.9"
  }
 },
 "nbformat": 4,
 "nbformat_minor": 5
}
