{
 "cells": [
  {
   "cell_type": "code",
   "execution_count": null,
   "id": "51249364-2558-4ecd-bc92-ef78eaeef236",
   "metadata": {},
   "outputs": [],
   "source": [
    "import torchvision\n",
    "from torch import nn\n",
    "from torch.nn import init\n",
    "from models.utils import pooling        \n",
    "\n",
    "class ResNet50(nn.Module):\n",
    "    def __init__(self, config, **kwargs):\n",
    "        super().__init__()\n",
    "\n",
    "        resnet50 = torchvision.models.resnet50(pretrained=True) \n",
    "        if config.MODEL.RES4_STRIDE == 1:\n",
    "            resnet50.layer4[0].conv2.stride=(1, 1)\n",
    "            resnet50.layer4[0].downsample[0].stride=(1, 1)\n",
    "\n",
    "        self.conv1 = resnet50.conv1\n",
    "        self.bn1 = resnet50.bn1\n",
    "        self.relu = resnet50.relu\n",
    "        self.maxpool = resnet50.maxpool\n",
    "\n",
    "        self.layer1 = resnet50.layer1\n",
    "        self.layer2 = resnet50.layer2\n",
    "        self.layer3 = resnet50.layer3\n",
    "        self.layer4 = resnet50.layer4\n",
    "        if config.MODEL.POOLING.NAME == 'avg':\n",
    "            self.globalpooling = nn.AdaptiveAvgPool2d(1)\n",
    "        elif config.MODEL.POOLING.NAME == 'max':\n",
    "            self.globalpooling = nn.AdaptiveMaxPool2d(1)\n",
    "        elif config.MODEL.POOLING.NAME == 'gem':\n",
    "            self.globalpooling = pooling.GeMPooling(p=config.MODEL.POOLING.P)\n",
    "        elif config.MODEL.POOLING.NAME == 'maxavg': \n",
    "            self.globalpooling = pooling.MaxAvgPooling()\n",
    "        else:\n",
    "            raise KeyError(\"Invalid pooling: '{}'\".format(config.MODEL.POOLING.NAME))\n",
    "\n",
    "        self.bn = nn.BatchNorm1d(config.MODEL.FEATURE_DIM) \n",
    "        init.normal_(self.bn.weight.data, 1.0, 0.02)\n",
    "        init.constant_(self.bn.bias.data, 0.0) \n",
    "        \n",
    "    def forward(self, x):\n",
    "\n",
    "        x = self.conv1(x)\n",
    "        x = self.bn1(x)\n",
    "        x = self.relu(x)\n",
    "        x = self.maxpool(x)\n",
    "        x = self.layer1(x)\n",
    "        x = self.layer2(x)\n",
    "        x = self.layer3(x)\n",
    "        base_f = self.layer4(x)\n",
    "        f = self.globalpooling(base_f)\n",
    "        f = f.view(f.size(0), -1)\n",
    "        f = self.bn(f)\n",
    "\n",
    "        return base_f, f"
   ]
  }
 ],
 "metadata": {
  "kernelspec": {
   "display_name": "Python 3 (ipykernel)",
   "language": "python",
   "name": "python3"
  },
  "language_info": {
   "codemirror_mode": {
    "name": "ipython",
    "version": 3
   },
   "file_extension": ".py",
   "mimetype": "text/x-python",
   "name": "python",
   "nbconvert_exporter": "python",
   "pygments_lexer": "ipython3",
   "version": "3.11.9"
  }
 },
 "nbformat": 4,
 "nbformat_minor": 5
}
